{
 "cells": [
  {
   "cell_type": "code",
   "execution_count": 108,
   "metadata": {},
   "outputs": [],
   "source": [
    "class Tyres:\n",
    "    def __init__(self,brand,bias,pressure):\n",
    "        \n",
    "        self.brand=brand\n",
    "        self.bias=bias\n",
    "        self.pressure=pressure\n",
    "    \n",
    "    def __str__(self):\n",
    "        return ('tyres: \\n \\tbrand: '+self.brand + '\\n \\tbelted bias:'+ str(self.bias) + \"\\n \\tpressure:\" +str(self.pressure))\n",
    "class Engine:\n",
    "    def __init__(self,fuel,capacity):\n",
    "        \n",
    "        self.fuel=fuel\n",
    "        self.capacity=capacity\n",
    "        \n",
    "    \n",
    "    def __str__(self):\n",
    "        return ('Engine: \\n \\tfuel: '+ self.fuel + '\\n \\tcapacity:'+ str(self.capacity) )\n",
    "class Body:\n",
    "    def __init__(self,size):\n",
    "        \n",
    "        self.size=size\n",
    "        \n",
    "    \n",
    "    def __str__(self):\n",
    "        return ('Body: \\n size: '+self.size)\n",
    "class Car:\n",
    "    def __init__(self,tyres,engine,Body):\n",
    "        \n",
    "        self.tyres=tyres\n",
    "        self.engine=engine\n",
    "        self.body=Body\n",
    "    \n",
    "    def __str__(self):\n",
    "        return (str(self.tyres) + '\\n' + str(self.engine) + '\\n' + str(self.body))"
   ]
  },
  {
   "cell_type": "code",
   "execution_count": 109,
   "metadata": {},
   "outputs": [],
   "source": [
    "t=Tyres(\"Bridgestone\",True,34)\n",
    "e=Engine(\"Diesel\",2.2)\n",
    "b=Body('SUV')"
   ]
  },
  {
   "cell_type": "code",
   "execution_count": 110,
   "metadata": {},
   "outputs": [],
   "source": [
    "c=Car(t,e,b)"
   ]
  },
  {
   "cell_type": "code",
   "execution_count": 111,
   "metadata": {},
   "outputs": [
    {
     "name": "stdout",
     "output_type": "stream",
     "text": [
      "tyres: \n",
      " \tbrand: Bridgestone\n",
      " \tbelted bias:True\n",
      " \tpressure:34\n",
      "Engine: \n",
      " \tfuel: Diesel\n",
      " \tcapacity:2.2\n",
      "Body: \n",
      " size: SUV\n"
     ]
    }
   ],
   "source": [
    "print(c)"
   ]
  },
  {
   "cell_type": "code",
   "execution_count": null,
   "metadata": {},
   "outputs": [],
   "source": []
  }
 ],
 "metadata": {
  "kernelspec": {
   "display_name": "Python 3",
   "language": "python",
   "name": "python3"
  },
  "language_info": {
   "codemirror_mode": {
    "name": "ipython",
    "version": 3
   },
   "file_extension": ".py",
   "mimetype": "text/x-python",
   "name": "python",
   "nbconvert_exporter": "python",
   "pygments_lexer": "ipython3",
   "version": "3.8.3"
  }
 },
 "nbformat": 4,
 "nbformat_minor": 4
}
